{
 "cells": [
  {
   "cell_type": "code",
   "execution_count": null,
   "metadata": {
    "collapsed": false,
    "deletable": true,
    "editable": true
   },
   "outputs": [],
   "source": [
    "%load_ext autoreload\n",
    "%autoreload 2"
   ]
  },
  {
   "cell_type": "code",
   "execution_count": null,
   "metadata": {
    "collapsed": false,
    "deletable": true,
    "editable": true
   },
   "outputs": [],
   "source": [
    "import S3processing as s"
   ]
  },
  {
   "cell_type": "code",
   "execution_count": null,
   "metadata": {
    "collapsed": true,
    "deletable": true,
    "editable": true
   },
   "outputs": [],
   "source": [
    "prefix = '/eodata/Sentinel-3/OLCI/OL_1_EFR/2017/05/21/S3A_OL_1_EFR____20170520T095410_20170520T095710_20170521T141215_0179_018_022_2159_LN1_O_NT_002.SEN3/'\n",
    "#prefix_arc = '/eodata/Sentinel-3/OLCI/OL_1_EFR/2017/06/14/S3A_OL_1_EFR____20170614T203728_20170614T204028_20170614T225056_0179_018_385_1260_SVL_O_NR_002.SEN3/'"
   ]
  },
  {
   "cell_type": "markdown",
   "metadata": {
    "deletable": true,
    "editable": true
   },
   "source": [
    "OLCIprocessing(ProductName, OutputName=True):\n",
    "- ProductName denotes the path to the Sentinel 3 product of interest\n",
    "- OutputName will be the name of the later on generated png file. If set to True, this function will set this variable to S3A_ followed by the date and time of the products retrieval. Default is True."
   ]
  },
  {
   "cell_type": "code",
   "execution_count": null,
   "metadata": {
    "collapsed": false,
    "deletable": true,
    "editable": true
   },
   "outputs": [],
   "source": [
    "S3prod = s.OLCIprocessing(prefix)"
   ]
  },
  {
   "cell_type": "markdown",
   "metadata": {
    "deletable": true,
    "editable": true
   },
   "source": [
    "ImportIMG:\n",
    "\n",
    "This function can be used to import the png file out of the product directory. Arrays will be unmarked."
   ]
  },
  {
   "cell_type": "code",
   "execution_count": null,
   "metadata": {
    "collapsed": false,
    "deletable": true,
    "editable": true
   },
   "outputs": [],
   "source": [
    "#S3prod.ImportIMG()"
   ]
  },
  {
   "cell_type": "markdown",
   "metadata": {
    "deletable": true,
    "editable": true
   },
   "source": [
    "ImportNetCDF(NumBand):\n",
    "- NumBand denotes how many bands actually are read in. For the RGB natural color images, only the first 10 bands are used (see SNAP toolbox). If not specified, all 21 bands will be imported."
   ]
  },
  {
   "cell_type": "code",
   "execution_count": null,
   "metadata": {
    "collapsed": false,
    "deletable": true,
    "editable": true
   },
   "outputs": [],
   "source": [
    "S3prod.importNetCDF(NumBand=7)"
   ]
  },
  {
   "cell_type": "markdown",
   "metadata": {
    "deletable": true,
    "editable": true
   },
   "source": [
    "CalcRGB(method='bands357'):\n",
    "used for converting spectral bands into natural color values in RGB form for the plotting funtion.\n",
    "- method='bands357'; the bands 3, 5, and 7 are used for the RGB data.\n",
    "- method='log'; merges the bands 1 - 10 according to the method used by the SNAP toolbos into the RGB data"
   ]
  },
  {
   "cell_type": "code",
   "execution_count": null,
   "metadata": {
    "collapsed": false,
    "deletable": true,
    "editable": true
   },
   "outputs": [],
   "source": [
    "S3prod.calcRGB()"
   ]
  },
  {
   "cell_type": "markdown",
   "metadata": {
    "deletable": true,
    "editable": true
   },
   "source": [
    "Scaling:\n",
    "- scale denotes the factor with which the data arrays will be scaled, default is 8. I.e. only every n^th data point will be used, where n = scale"
   ]
  },
  {
   "cell_type": "code",
   "execution_count": null,
   "metadata": {
    "collapsed": false,
    "deletable": true,
    "editable": true
   },
   "outputs": [],
   "source": [
    "S3prod.scaling(scale=8)"
   ]
  },
  {
   "cell_type": "markdown",
   "metadata": {
    "deletable": true,
    "editable": true
   },
   "source": [
    "transformCoords(proj='laea'):\n",
    "- if the image is too far north/south for the Mercator projection to visualize it properly, the Lambert Azimuthal Equal-Area projection ('laea') can be used. This projection is currently the only alternative to the Mercator and thus set to default if transformCoords is used."
   ]
  },
  {
   "cell_type": "code",
   "execution_count": null,
   "metadata": {
    "collapsed": false,
    "deletable": true,
    "editable": true
   },
   "outputs": [],
   "source": [
    "S3prod.transformCoords()"
   ]
  },
  {
   "cell_type": "markdown",
   "metadata": {},
   "source": [
    "createDynamp():\n",
    "- this function uses several underlying functions to create a dynamic image of the product. Currently, the only use is to cut off values of the upper/lower end of the data interval."
   ]
  },
  {
   "cell_type": "code",
   "execution_count": null,
   "metadata": {
    "collapsed": false,
    "deletable": true,
    "editable": true,
    "scrolled": true
   },
   "outputs": [],
   "source": [
    "dmap = S3prod.createDynmap()\n",
    "dmap"
   ]
  },
  {
   "cell_type": "markdown",
   "metadata": {},
   "source": [
    "createBasemap():\n",
    "- builds the frame for the later plot. If no other projection has been chosen, Mercator will be used. This function needs the lot/lan to work, nothing else"
   ]
  },
  {
   "cell_type": "code",
   "execution_count": null,
   "metadata": {
    "collapsed": false,
    "deletable": true,
    "editable": true
   },
   "outputs": [],
   "source": [
    "S3prod.createBasemap()"
   ]
  },
  {
   "cell_type": "markdown",
   "metadata": {
    "collapsed": false,
    "deletable": true,
    "editable": true
   },
   "source": [
    "savePNG(array=None, TargetDir='./'):\n",
    "- array denotes the data that will be used. If nothing is specified, savePNG uses the unprocessed RGB data from the calcRGB function. To use the output from createDynmap, use array=dmap.last.data\n",
    "- newDir denotes the name of the directory where the png file will be stored. Default is the current directory."
   ]
  },
  {
   "cell_type": "code",
   "execution_count": null,
   "metadata": {
    "collapsed": false,
    "deletable": true,
    "editable": true
   },
   "outputs": [],
   "source": [
    "S3prod.savePNG(array=dmap.last.data)"
   ]
  },
  {
   "cell_type": "markdown",
   "metadata": {},
   "source": [
    "MercatorPlot():\n",
    "- works only for Mercator projection. Plots the .png file as an image overlay on the leaflet map."
   ]
  },
  {
   "cell_type": "code",
   "execution_count": null,
   "metadata": {
    "collapsed": false,
    "deletable": true,
    "editable": true
   },
   "outputs": [],
   "source": [
    "S3prod.MercatorPlot()"
   ]
  },
  {
   "cell_type": "code",
   "execution_count": null,
   "metadata": {
    "collapsed": true,
    "deletable": true,
    "editable": true
   },
   "outputs": [],
   "source": []
  }
 ],
 "metadata": {
  "anaconda-cloud": {},
  "kernelspec": {
   "display_name": "Python [conda root]",
   "language": "python",
   "name": "conda-root-py"
  },
  "language_info": {
   "codemirror_mode": {
    "name": "ipython",
    "version": 2
   },
   "file_extension": ".py",
   "mimetype": "text/x-python",
   "name": "python",
   "nbconvert_exporter": "python",
   "pygments_lexer": "ipython2",
   "version": "2.7.12"
  }
 },
 "nbformat": 4,
 "nbformat_minor": 2
}
